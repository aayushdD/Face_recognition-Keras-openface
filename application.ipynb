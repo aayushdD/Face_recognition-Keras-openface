{
 "cells": [
  {
   "cell_type": "code",
   "execution_count": 1,
   "metadata": {},
   "outputs": [
    {
     "name": "stdout",
     "output_type": "stream",
     "text": [
      "WARNING:tensorflow:No training configuration found in the save file, so the model was *not* compiled. Compile it manually.\n"
     ]
    }
   ],
   "source": [
    "import tensorflow as tf\n",
    "from tensorflow import keras\n",
    "import numpy as np\n",
    "from verify import *\n",
    "from utils import *\n",
    "import os\n",
    "from keras import backend as K\n",
    "import cv2\n",
    "\n",
    "data=get_existing_data()\n",
    "# use add_data function to add more data\n",
    "\n",
    "cap=cv2.VideoCapture('frank_video.mp4')\n",
    "face_cascade=cv2.CascadeClassifier('haarcascade_frontalface.xml')\n",
    "while True:\n",
    "    ret,frame=cap.read()\n",
    "    gray=cv2.cvtColor(frame,cv2.COLOR_BGR2GRAY)\n",
    "    faces=face_cascade.detectMultiScale(gray,1.3,5)\n",
    "    for (x,y,w,h) in faces:\n",
    "        cv2.rectangle(frame,(x,y),(x+w,y+h),(255,0,0),2)\n",
    "        roi_image=frame[y:y+h,x:x+w]\n",
    "        cv2.imwrite('frank.jpg',roi_image)\n",
    "        ans=verification(roi_image,data)\n",
    "        font=cv2.FONT_HERSHEY_SIMPLEX\n",
    "        cv2.putText(frame,ans,(x,y),font,1,(255,0,0),2,cv2.LINE_AA)\n",
    "    cv2.imshow('pic',frame)\n",
    "    if cv2.waitKey(1) & 0xFF==ord('q'):\n",
    "        break\n",
    "cap.release()\n",
    "cv2.destroyAllWindows()\n",
    "        "
   ]
  }
 ],
 "metadata": {
  "kernelspec": {
   "display_name": "Python 3",
   "language": "python",
   "name": "python3"
  },
  "language_info": {
   "codemirror_mode": {
    "name": "ipython",
    "version": 3
   },
   "file_extension": ".py",
   "mimetype": "text/x-python",
   "name": "python",
   "nbconvert_exporter": "python",
   "pygments_lexer": "ipython3",
   "version": "3.7.7"
  }
 },
 "nbformat": 4,
 "nbformat_minor": 4
}
